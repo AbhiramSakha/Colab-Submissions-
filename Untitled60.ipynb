{
  "nbformat": 4,
  "nbformat_minor": 0,
  "metadata": {
    "colab": {
      "provenance": [],
      "authorship_tag": "ABX9TyOpqei8Xh6Am3qRZY9dgicC",
      "include_colab_link": true
    },
    "kernelspec": {
      "name": "python3",
      "display_name": "Python 3"
    },
    "language_info": {
      "name": "python"
    }
  },
  "cells": [
    {
      "cell_type": "markdown",
      "metadata": {
        "id": "view-in-github",
        "colab_type": "text"
      },
      "source": [
        "<a href=\"https://colab.research.google.com/github/AbhiramSakha/Colab-Submissions-/blob/main/Untitled60.ipynb\" target=\"_parent\"><img src=\"https://colab.research.google.com/assets/colab-badge.svg\" alt=\"Open In Colab\"/></a>"
      ]
    },
    {
      "cell_type": "code",
      "source": [
        "add = 10 + 2\n",
        "print(f\"The added value is ({add})\")\n",
        "\n",
        "# Python does not have the `const` keyword.\n",
        "# To declare a constant, use all uppercase letters.\n",
        "SUBS = 10 - 2\n",
        "print(f\"The subtracted value is ({SUBS})\")"
      ],
      "metadata": {
        "colab": {
          "base_uri": "https://localhost:8080/"
        },
        "id": "oljhXL2fuB-Z",
        "outputId": "ade586e3-eca8-4a87-de0e-49b48e407761"
      },
      "execution_count": 7,
      "outputs": [
        {
          "output_type": "stream",
          "name": "stdout",
          "text": [
            "The added value is (12)\n",
            "The subtracted value is (8)\n"
          ]
        }
      ]
    }
  ]
}