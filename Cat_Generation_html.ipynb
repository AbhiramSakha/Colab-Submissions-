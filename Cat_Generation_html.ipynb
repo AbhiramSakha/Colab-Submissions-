{
  "nbformat": 4,
  "nbformat_minor": 0,
  "metadata": {
    "colab": {
      "provenance": [],
      "authorship_tag": "ABX9TyP9xoY3nNFai3lAwTuysti2",
      "include_colab_link": true
    },
    "kernelspec": {
      "name": "python3",
      "display_name": "Python 3"
    },
    "language_info": {
      "name": "python"
    }
  },
  "cells": [
    {
      "cell_type": "markdown",
      "metadata": {
        "id": "view-in-github",
        "colab_type": "text"
      },
      "source": [
        "<a href=\"https://colab.research.google.com/github/AbhiramSakha/Colab-Submissions-/blob/main/Cat_Generation_html.ipynb\" target=\"_parent\"><img src=\"https://colab.research.google.com/assets/colab-badge.svg\" alt=\"Open In Colab\"/></a>"
      ]
    },
    {
      "cell_type": "code",
      "execution_count": 11,
      "metadata": {
        "colab": {
          "base_uri": "https://localhost:8080/",
          "height": 133
        },
        "id": "AT3gMZWjZ-qP",
        "outputId": "c6885fb7-7625-4975-a327-5558d26eb0a4"
      },
      "outputs": [
        {
          "output_type": "display_data",
          "data": {
            "text/plain": [
              "<IPython.core.display.HTML object>"
            ],
            "text/html": [
              "<!DOCTYPE html>\n",
              "<html lang=\"en\">\n",
              "<head>\n",
              "  <meta charset=\"UTF-8\">\n",
              "  <meta name=\"viewport\" content=\"width=device-width, initial-scale=1.0\">\n",
              "  <title>Cat Generator</title>\n",
              "  <style>\n",
              "    .container {\n",
              "      \n",
              "    }\n",
              "This code is not Python code, so it cannot be fixed.\n",
              "\n",
              "    .container h2 {\n",
              "      font-size: 28px;\n",
              "      margin-bottom: 10px;\n",
              "    }\n",
              "\n",
              "    button {\n",
              "      padding: 13px 27px;\n",
              "      font-size: 19px;\n",
              "      background-color: green;\n",
              "      color: white;\n",
              "      border: none;\n",
              "      border-radius: 7px;\n",
              "      margin: 10px;\n",
              "    }\n",
              "\n",
              "    .flex-box {\n",
              "      display: flex;\n",
              "      justify-content: space-around;\n",
              "      flex-wrap: wrap;\n",
              "    }\n",
              "\n",
              "    .flex-box img {\n",
              "      margin: 10px;\n",
              "      width: 200px;\n",
              "      box-shadow: 0px 10px 50px rgba(0, 0, 0, 0.71);\n",
              "    }\n",
              "  </style>\n",
              "</head>\n",
              "<body>\n",
              "  <div class=\"container\">\n",
              "    <h2>Cat Generator</h2>\n",
              "    <button onclick=\"generateCat()\">Generate Cat</button>\n",
              "    <div id=\"flex-cat-gen\" class=\"flex-box\"></div>\n",
              "  </div>\n",
              "\n",
              "  <script>\n",
              "    function generateCat() {\n",
              "      var image = document.createElement('img');\n",
              "      var div = document.getElementById('flex-cat-gen');\n",
              "      image.src = \"http://thecatapi.com/api/images/get?format=src&type=gif\";\n",
              "      div.appendChild(image);\n",
              "    }\n",
              "  </script>\n",
              "</body>\n",
              "</html>\n"
            ]
          },
          "metadata": {}
        }
      ],
      "source": [
        "%%html\n",
        "<!DOCTYPE html>\n",
        "<html lang=\"en\">\n",
        "<head>\n",
        "  <meta charset=\"UTF-8\">\n",
        "  <meta name=\"viewport\" content=\"width=device-width, initial-scale=1.0\">\n",
        "  <title>Cat Generator</title>\n",
        "  <style>\n",
        "    .container {\n",
        "\n",
        "    }\n",
        "This code is not Python code, so it cannot be fixed.\n",
        "\n",
        "    .container h2 {\n",
        "      font-size: 28px;\n",
        "      margin-bottom: 10px;\n",
        "    }\n",
        "\n",
        "    button {\n",
        "      padding: 13px 27px;\n",
        "      font-size: 19px;\n",
        "      background-color: green;\n",
        "      color: white;\n",
        "      border: none;\n",
        "      border-radius: 7px;\n",
        "      margin: 10px;\n",
        "    }\n",
        "\n",
        "    .flex-box {\n",
        "      display: flex;\n",
        "      justify-content: space-around;\n",
        "      flex-wrap: wrap;\n",
        "    }\n",
        "\n",
        "    .flex-box img {\n",
        "      margin: 10px;\n",
        "      width: 200px;\n",
        "      box-shadow: 0px 10px 50px rgba(0, 0, 0, 0.71);\n",
        "    }\n",
        "  </style>\n",
        "</head>\n",
        "<body>\n",
        "  <div class=\"container\">\n",
        "    <h2>Cat Generator</h2>\n",
        "    <button onclick=\"generateCat()\">Generate Cat</button>\n",
        "    <div id=\"flex-cat-gen\" class=\"flex-box\"></div>\n",
        "  </div>\n",
        "\n",
        "  <script>\n",
        "    function generateCat() {\n",
        "      var image = document.createElement('img');\n",
        "      var div = document.getElementById('flex-cat-gen');\n",
        "      image.src = \"http://thecatapi.com/api/images/get?format=src&type=gif\";\n",
        "      div.appendChild(image);\n",
        "    }\n",
        "  </script>\n",
        "</body>\n",
        "</html>\n"
      ]
    }
  ]
}